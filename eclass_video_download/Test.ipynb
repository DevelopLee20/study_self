{
    "cells": [
        {
            "cell_type": "code",
            "execution_count": 20,
            "source": [
                "from selenium import webdriver\r\n",
                "from selenium.webdriver.common.by import By"
            ],
            "outputs": [],
            "metadata": {}
        },
        {
            "cell_type": "code",
            "execution_count": 45,
            "source": [
                "# 아이디, 비번, 코트번호, 시작시간, 대여시간, 인원, 행사명, 라이트설정:개수\r\n",
                "def WebMaster(user_id, user_pw, court, hour, unit, many, title, light):\r\n",
                "    driver = webdriver.Chrome('chromedriver.exe')\r\n",
                "    driver.maximize_window()\r\n",
                "    driver.get('https://re.asimc.or.kr/v')\r\n",
                "\r\n",
                "    # 로그인\r\n",
                "    try:\r\n",
                "        driver.implicitly_wait(0.5)\r\n",
                "        driver.find_element_by_xpath('//*[@id=\"topLogin\"]').click()\r\n",
                "        driver.find_element_by_id('userId').send_keys(user_id)\r\n",
                "        driver.find_element_by_id('password').send_keys(user_pw)\r\n",
                "        driver.find_element_by_xpath('//*[@id=\"login_wrap\"]/table/tbody/tr[5]/td/div/a').click()\r\n",
                "    except:\r\n",
                "        print(\"로그인 실패\\n\")\r\n",
                "        return\r\n",
                "\r\n",
                "    # 시설 예약 바로가기 설정 후 진입\r\n",
                "    try:\r\n",
                "        # 7: 국제정구장\r\n",
                "        # 32: 1코트, 90~96: 2~8코트\r\n",
                "        driver.implicitly_wait(0.5)\r\n",
                "        webdriver.support.ui.Select(driver.find_element_by_id('fac_list')).select_by_value('7')\r\n",
                "        court_list = [32,90,91,92,93,94,95,96]\r\n",
                "        webdriver.support.ui.Select(driver.find_element_by_id('det_fac_list')).select_by_value(f'{court_list[court-1]}')\r\n",
                "        driver.find_element_by_xpath('//*[@id=\"main_res_t\"]/tbody/tr/td[3]/a').click()\r\n",
                "    except:\r\n",
                "        print(\"시설 예약 진입 실패\")\r\n",
                "        return\r\n",
                "\r\n",
                "    # 진입 후 날짜 선택\r\n",
                "    try:\r\n",
                "        # 체육경기 = A, 경기이외의 행사 = O\r\n",
                "        driver.implicitly_wait(0.5)\r\n",
                "        ##### 바로 아래에 날짜 선택하는 옵션 추가\r\n",
                "        driver.find_element_by_xpath('//*[@id=\"cal_body\"]/tr[3]/td[3]').click()\r\n",
                "        webdriver.support.ui.Select(driver.find_element_by_id('purpose')).select_by_value('O')\r\n",
                "        if hour < 10:\r\n",
                "            webdriver.support.ui.Select(driver.find_element_by_id('s_time_hour')).select_by_value(f'0{hour}')\r\n",
                "        else:\r\n",
                "            webdriver.support.ui.Select(driver.find_element_by_id('s_time_hour')).select_by_value(f'{hour}')\r\n",
                "        webdriver.support.ui.Select(driver.find_element_by_id('hour_unit')).select_by_value(f'{unit}')\r\n",
                "        driver.find_element_by_xpath('//*[@id=\"more\"]/a').click()\r\n",
                "    except:\r\n",
                "        print(\"날짜 선택 오류\")\r\n",
                "        return\r\n",
                "\r\n",
                "    # 인원수, 행사명 작성\r\n",
                "    try:\r\n",
                "        driver.implicitly_wait(0.5)\r\n",
                "        driver.find_element_by_id('person').send_keys(f'{many}')\r\n",
                "        driver.find_element_by_id('event').send_keys(f'{title}')\r\n",
                "        driver.find_element_by_xpath('//*[@id=\"join_btn_wrap\"]/a[1]').click()\r\n",
                "    except:\r\n",
                "        print(\"정보 입력 오류\")\r\n",
                "        return\r\n",
                "\r\n",
                "    # 라이트 설정\r\n",
                "    try:\r\n",
                "        # 라이트 설정 라이트_value = 23\r\n",
                "        driver.implicitly_wait(0.5)\r\n",
                "        driver.find_element_by_xpath('//*[@id=\"sub_fac_cnt\"]').clear()\r\n",
                "        driver.implicitly_wait(0.3)\r\n",
                "        driver.find_element_by_id('sub_fac_cnt').send_keys(light)\r\n",
                "\r\n",
                "        if light:\r\n",
                "            driver.find_element_by_xpath('//*[@id=\"join_table\"]/table/tbody/tr[1]/td[2]/form/a').click()\r\n",
                "    except:\r\n",
                "        print(\"라이트 설정 오류\")\r\n",
                "        return\r\n",
                "\r\n",
                "    # 최후의 통첩 : 테스트할땐 주석 후 테스트, 실제만 사용\r\n",
                "    # driver.find_element_by_xpath('//*[@id=\"join_btn_wrap\"]/a[1]').click()"
            ],
            "outputs": [],
            "metadata": {}
        },
        {
            "cell_type": "code",
            "execution_count": 46,
            "source": [
                "WebMaster('dldlsrb1414','dldlsrb1004!',5, 5, 2, 1, '테스트', 3)"
            ],
            "outputs": [],
            "metadata": {}
        }
    ],
    "metadata": {
        "orig_nbformat": 4,
        "language_info": {
            "name": "python",
            "version": "3.9.6",
            "mimetype": "text/x-python",
            "codemirror_mode": {
                "name": "ipython",
                "version": 3
            },
            "pygments_lexer": "ipython3",
            "nbconvert_exporter": "python",
            "file_extension": ".py"
        },
        "kernelspec": {
            "name": "python3",
            "display_name": "Python 3.9.6 64-bit"
        },
        "interpreter": {
            "hash": "d54bb5494ef5283f3bb9da334a12126f2e168d7022622466af04c6570fd1119d"
        }
    },
    "nbformat": 4,
    "nbformat_minor": 2
}