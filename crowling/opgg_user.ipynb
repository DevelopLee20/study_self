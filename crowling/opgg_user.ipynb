{
    "cells": [
        {
            "cell_type": "code",
            "execution_count": 209,
            "source": [
                "import requests\r\n",
                "from bs4 import BeautifulSoup"
            ],
            "outputs": [],
            "metadata": {}
        },
        {
            "cell_type": "code",
            "execution_count": 210,
            "source": [
                "username = '가람의동'\r\n",
                "url = f\"https://www.op.gg/summoner/userName={username}\"\r\n",
                "\r\n",
                "content = requests.get(url)\r\n",
                "assert content.status_code == 200\r\n",
                "\r\n",
                "soup = BeautifulSoup(content.text, 'html.parser')"
            ],
            "outputs": [],
            "metadata": {}
        },
        {
            "cell_type": "code",
            "execution_count": 211,
            "source": [
                "lst = soup.find(\"div\",{\"class\":\"GameItemList\"})\r\n",
                "game_list = lst.find_all(\"div\",{\"class\":\"Content\"})"
            ],
            "outputs": [],
            "metadata": {}
        },
        {
            "cell_type": "code",
            "execution_count": 212,
            "source": [
                "Game_Type = {'ARAM':'칼바람 나락','Ranked Solo':'솔로랭크','Normal':'일반','Bot':'봇전','Flex 5:5 Rank':'자유랭크','Ultimates':'궁극기모드'}\r\n",
                "Type_List = []; Champion_List = []; Kill_List = []; Death_List = []; Assist_List = []; Win_Loss_List = []\r\n",
                "Win_count = 0; Loss_count = 0"
            ],
            "outputs": [],
            "metadata": {}
        },
        {
            "cell_type": "code",
            "execution_count": 213,
            "source": [
                "# ARAM : 칼바람 나락, Ranked Solo : 솔랭, Normal : 일반, Bot : 봇전, Flex 5:5 Rank : 자유랭, Ultimates : 궁극기모드\r\n",
                "for i in game_list:\r\n",
                "    game_type_x = i.find(\"div\",{\"class\":\"GameType\"})\r\n",
                "    champion_x = i.find(\"div\",{\"class\":\"ChampionName\"})\r\n",
                "    KDA_x = i.find(\"div\",{\"KDA\"})\r\n",
                "    Win_Loss_x = i.find(\"div\",{\"class\":\"GameResult\"})\r\n",
                "    \r\n",
                "    try:\r\n",
                "        # 게임  타입\r\n",
                "        if game_type_x.get('title') in Game_Type:\r\n",
                "            for key, value in zip(Game_Type.keys(), Game_Type.values()):\r\n",
                "                if game_type_x.get('title') == key:\r\n",
                "                    Type_List.append(value)\r\n",
                "                    break\r\n",
                "        else:\r\n",
                "            Type_List.append(game_type_x.get('title'))\r\n",
                "\r\n",
                "        # 챔피언 이름\r\n",
                "        champion = (champion_x.text)\r\n",
                "        champion = champion[1:-1]\r\n",
                "        Champion_List.append(champion)\r\n",
                "\r\n",
                "        # KDA\r\n",
                "        Kill = KDA_x.find(\"span\",{\"class\":\"Kill\"}).text\r\n",
                "        Death = KDA_x.find(\"span\",{\"class\":\"Death\"}).text\r\n",
                "        Assist = KDA_x.find(\"span\",{\"class\":\"Assist\"}).text\r\n",
                "\r\n",
                "        Kill_List.append(int(Kill))\r\n",
                "        Death_List.append(int(Death))\r\n",
                "        Assist_List.append(int(Assist))\r\n",
                "\r\n",
                "        # 승 패 읽기\r\n",
                "        result = Win_Loss_x.text.strip()\r\n",
                "        if result == 'Victory':\r\n",
                "            Win_count += 1\r\n",
                "        else:\r\n",
                "            Loss_count += 1\r\n",
                "\r\n",
                "        Win_Loss_List.append(result)\r\n",
                "\r\n",
                "    except:\r\n",
                "        pass"
            ],
            "outputs": [],
            "metadata": {}
        },
        {
            "cell_type": "code",
            "execution_count": 214,
            "source": [
                "# 승률\r\n",
                "Win_Rate = round(Win_count / 20 * 100 , 3)\r\n",
                "# 40경기 KDA\r\n",
                "KDA_20Play = round((sum(Kill_List) + sum(Assist_List)) / sum(Death_List) , 2)"
            ],
            "outputs": [],
            "metadata": {}
        },
        {
            "cell_type": "code",
            "execution_count": 216,
            "source": [
                "Win_Rate, KDA_20Play"
            ],
            "outputs": [
                {
                    "output_type": "execute_result",
                    "data": {
                        "text/plain": [
                            "(100.0, 2.34)"
                        ]
                    },
                    "metadata": {},
                    "execution_count": 216
                }
            ],
            "metadata": {}
        },
        {
            "cell_type": "code",
            "execution_count": 218,
            "source": [
                "Win_count"
            ],
            "outputs": [
                {
                    "output_type": "execute_result",
                    "data": {
                        "text/plain": [
                            "10"
                        ]
                    },
                    "metadata": {},
                    "execution_count": 218
                }
            ],
            "metadata": {}
        },
        {
            "cell_type": "code",
            "execution_count": 219,
            "source": [
                "Loss_count"
            ],
            "outputs": [
                {
                    "output_type": "execute_result",
                    "data": {
                        "text/plain": [
                            "10"
                        ]
                    },
                    "metadata": {},
                    "execution_count": 219
                }
            ],
            "metadata": {}
        }
    ],
    "metadata": {
        "orig_nbformat": 4,
        "language_info": {
            "name": "python",
            "version": "3.9.6",
            "mimetype": "text/x-python",
            "codemirror_mode": {
                "name": "ipython",
                "version": 3
            },
            "pygments_lexer": "ipython3",
            "nbconvert_exporter": "python",
            "file_extension": ".py"
        },
        "kernelspec": {
            "name": "python3",
            "display_name": "Python 3.9.6 64-bit"
        },
        "interpreter": {
            "hash": "d54bb5494ef5283f3bb9da334a12126f2e168d7022622466af04c6570fd1119d"
        }
    },
    "nbformat": 4,
    "nbformat_minor": 2
}