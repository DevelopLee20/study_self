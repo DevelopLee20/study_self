{
    "cells": [
        {
            "cell_type": "code",
            "execution_count": 8,
            "source": [
                "import requests\r\n",
                "from bs4 import BeautifulSoup\r\n",
                "\r\n",
                "test = '밥띠'\r\n",
                "\r\n",
                "url = f'https://search.naver.com/search.naver?where=nexearch&sm=tab_etc&qvt=0&query={test}%20운세'\r\n",
                "\r\n",
                "req = requests.get(url)\r\n",
                "\r\n",
                "assert req.status_code == 200\r\n",
                "\r\n",
                "contents = BeautifulSoup(req.text, 'html.parser')\r\n",
                "\r\n",
                "sign_lst = contents.find(\"p\",{\"class\":\"text _cs_fortune_text\"})\r\n",
                "sign_lst.text"
            ],
            "outputs": [
                {
                    "output_type": "execute_result",
                    "data": {
                        "text/plain": [
                            "'자신의 기운이 주변 사람들에게 최고치에 이르고, 이에 인망까지 얻을 수 있다. 이 기회를 놓치지 말고 주변 사람에게 당신이 원하는 것이 있으면 툭 터놓고 말하는 게 유리하다. 회사에서 재무를 맡고 있는 사람이라면 숫자의 기복이 심할 수 있으니, 입출금 관리 업무를 차분하고 신중하게 처리함이 좋겠다.'"
                        ]
                    },
                    "metadata": {},
                    "execution_count": 8
                }
            ],
            "metadata": {}
        }
    ],
    "metadata": {
        "orig_nbformat": 4,
        "language_info": {
            "name": "python",
            "version": "3.9.6",
            "mimetype": "text/x-python",
            "codemirror_mode": {
                "name": "ipython",
                "version": 3
            },
            "pygments_lexer": "ipython3",
            "nbconvert_exporter": "python",
            "file_extension": ".py"
        },
        "kernelspec": {
            "name": "python3",
            "display_name": "Python 3.9.6 64-bit"
        },
        "interpreter": {
            "hash": "d54bb5494ef5283f3bb9da334a12126f2e168d7022622466af04c6570fd1119d"
        }
    },
    "nbformat": 4,
    "nbformat_minor": 2
}