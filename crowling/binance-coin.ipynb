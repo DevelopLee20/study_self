{
    "cells": [
        {
            "cell_type": "markdown",
            "source": [
                "# 참고자료\r\n",
                "\r\n",
                "<https://wikidocs.net/31065>\r\n"
            ],
            "metadata": {}
        },
        {
            "cell_type": "code",
            "execution_count": 2,
            "source": [
                "import ccxt"
            ],
            "outputs": [],
            "metadata": {}
        },
        {
            "cell_type": "code",
            "execution_count": 3,
            "source": [
                "binance = ccxt.binance()\r\n",
                "markets = binance.fetch_tickers() # 전체 코인 목록 딕셔너리"
            ],
            "outputs": [],
            "metadata": {}
        },
        {
            "cell_type": "code",
            "execution_count": 4,
            "source": [
                "ticker = binance.fetch_ticker('ETH/USDT') # 하나의 코인 목록 불러오기\r\n",
                "# 시작 , 최고가 , 최저가 , 종가(현재 실거래)\r\n",
                "print(ticker['open'], ticker['high'], ticker['low'], ticker['close'])"
            ],
            "outputs": [
                {
                    "output_type": "stream",
                    "name": "stdout",
                    "text": [
                        "3230.85 3289.8 3132.69 3161.43\n"
                    ]
                }
            ],
            "metadata": {}
        },
        {
            "cell_type": "code",
            "execution_count": 5,
            "source": [
                "Enter = 'BTC/USDT'\r\n",
                "\r\n",
                "if Enter in markets.keys():\r\n",
                "    print(markets[Enter]['close'])\r\n",
                "else:\r\n",
                "    print('없음')"
            ],
            "outputs": [
                {
                    "output_type": "stream",
                    "name": "stdout",
                    "text": [
                        "45923.48\n"
                    ]
                }
            ],
            "metadata": {}
        }
    ],
    "metadata": {
        "orig_nbformat": 4,
        "language_info": {
            "name": "python",
            "version": "3.9.1",
            "mimetype": "text/x-python",
            "codemirror_mode": {
                "name": "ipython",
                "version": 3
            },
            "pygments_lexer": "ipython3",
            "nbconvert_exporter": "python",
            "file_extension": ".py"
        },
        "kernelspec": {
            "name": "python3",
            "display_name": "Python 3.9.1 64-bit"
        },
        "interpreter": {
            "hash": "b2a908de2e63cef092b4c03a3d6fd8a528dc783c2259b39b3e2e9299e7de2526"
        }
    },
    "nbformat": 4,
    "nbformat_minor": 2
}