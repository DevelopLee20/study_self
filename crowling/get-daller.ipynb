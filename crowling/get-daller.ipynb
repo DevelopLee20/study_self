{
    "cells": [
        {
            "cell_type": "code",
            "execution_count": 22,
            "source": [
                "import requests\r\n",
                "from bs4 import BeautifulSoup"
            ],
            "outputs": [],
            "metadata": {}
        },
        {
            "cell_type": "code",
            "execution_count": 30,
            "source": [
                "url = 'https://search.naver.com/search.naver?where=nexearch&sm=top_hty&fbm=0&ie=utf8&query=달러'\r\n",
                "\r\n",
                "content = requests.get(url)\r\n",
                "\r\n",
                "assert content.status_code == 200\r\n",
                "\r\n",
                "soup = BeautifulSoup(content.text, 'html.parser')"
            ],
            "outputs": [],
            "metadata": {}
        },
        {
            "cell_type": "code",
            "execution_count": 51,
            "source": [
                "daller = list(soup.find('span',{'class':'spt_con'}).find('strong').text)\r\n",
                "daller.remove(',')\r\n",
                "daller.remove('.')\r\n",
                "daller = [int(i) for i in daller]\r\n",
                "chk = 1000\r\n",
                "result = 0\r\n",
                "for i in daller:\r\n",
                "    result += chk * i\r\n",
                "    chk /= 10\r\n",
                "\r\n",
                "daller = result"
            ],
            "outputs": [
                {
                    "output_type": "execute_result",
                    "data": {
                        "text/plain": [
                            "1169.0"
                        ]
                    },
                    "metadata": {},
                    "execution_count": 51
                }
            ],
            "metadata": {}
        }
    ],
    "metadata": {
        "orig_nbformat": 4,
        "language_info": {
            "name": "python",
            "version": "3.9.1"
        },
        "kernelspec": {
            "name": "python3",
            "display_name": "Python 3.9.1 64-bit"
        },
        "interpreter": {
            "hash": "b2a908de2e63cef092b4c03a3d6fd8a528dc783c2259b39b3e2e9299e7de2526"
        }
    },
    "nbformat": 4,
    "nbformat_minor": 2
}