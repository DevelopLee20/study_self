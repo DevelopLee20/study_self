{
    "cells": [
        {
            "cell_type": "code",
            "execution_count": 1,
            "source": [
                "import requests\r\n",
                "from bs4 import BeautifulSoup\r\n",
                "\r\n",
                "url = 'http://ncov.mohw.go.kr/regSocdisBoardView.do?brdId=6&brdGubun=68&ncvContSeq=495'\r\n",
                "\r\n",
                "content = requests.get(url)\r\n",
                "\r\n",
                "assert content.status_code == 200\r\n",
                "\r\n",
                "soup = BeautifulSoup(content.text, 'html.parser')\r\n",
                "\r\n",
                "button = soup.find_all(\"script\")\r\n",
                "\r\n",
                "data = button[-1]\r\n",
                "\r\n",
                "data = str(data)\r\n",
                "\r\n",
                "a = data.split(\",\")\r\n",
                "\r\n",
                "for i in a:\r\n",
                "    if (i.find(\"DES :\")+1):\r\n",
                "        text = i[9:]\r\n",
                "        want = text[:text.find(\"계\")+1]\r\n",
                "        print(want)"
            ],
            "outputs": [
                {
                    "output_type": "stream",
                    "name": "stdout",
                    "text": [
                        "서울전지역4단계\n",
                        "부산전지역3단계\n",
                        "대구전지역3단계\n",
                        "인천일부지역4단계\n",
                        "광주전지역3단계\n",
                        "대전전지역4단계\n",
                        "울산전지역3단계\n",
                        "세종전지역3단계\n",
                        "경기전지역4단계\n",
                        "강원일부지역3단계\n",
                        "충북전지역3단계\n",
                        "충남일부지역3단계\n",
                        "전북(전주·군산·익산·완주혁신도시)3단계\n",
                        "전남전지역3단계\n",
                        "경북일부지역3단계\n",
                        "경남일부지역3단계\n",
                        "제주전지역3단계\n"
                    ]
                }
            ],
            "metadata": {}
        }
    ],
    "metadata": {
        "orig_nbformat": 4,
        "language_info": {
            "name": "python",
            "version": "3.9.6",
            "mimetype": "text/x-python",
            "codemirror_mode": {
                "name": "ipython",
                "version": 3
            },
            "pygments_lexer": "ipython3",
            "nbconvert_exporter": "python",
            "file_extension": ".py"
        },
        "kernelspec": {
            "name": "python3",
            "display_name": "Python 3.9.6 64-bit"
        },
        "interpreter": {
            "hash": "d54bb5494ef5283f3bb9da334a12126f2e168d7022622466af04c6570fd1119d"
        }
    },
    "nbformat": 4,
    "nbformat_minor": 2
}