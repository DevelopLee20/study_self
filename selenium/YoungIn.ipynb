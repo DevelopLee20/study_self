{
    "cells": [
        {
            "cell_type": "code",
            "execution_count": 1,
            "source": [
                "import requests\r\n",
                "from bs4 import BeautifulSoup\r\n",
                "from selenium import webdriver"
            ],
            "outputs": [],
            "metadata": {}
        },
        {
            "cell_type": "code",
            "execution_count": 2,
            "source": [
                "# 모바일 옵션 설정\r\n",
                "mobile_emulation = { \"deviceName\": \"Galaxy Note II\" }\r\n",
                "chrome_options = webdriver.ChromeOptions()\r\n",
                "chrome_options.add_experimental_option(\"mobileEmulation\", mobile_emulation)"
            ],
            "outputs": [],
            "metadata": {}
        },
        {
            "cell_type": "code",
            "execution_count": 160,
            "source": [
                "user_id = '01039329913'\r\n",
                "user_pw = 'LeeInGyu1004!'\r\n",
                "# "
            ],
            "outputs": [],
            "metadata": {}
        },
        {
            "cell_type": "code",
            "execution_count": 3,
            "source": [
                "# 드라이버 패스 설정\r\n",
                "driver = webdriver.Chrome('chromedriver.exe', chrome_options=chrome_options)"
            ],
            "outputs": [
                {
                    "output_type": "stream",
                    "name": "stderr",
                    "text": [
                        "C:\\Users\\cslab\\AppData\\Local\\Temp/ipykernel_15864/4104775298.py:2: DeprecationWarning: use options instead of chrome_options\n",
                        "  driver = webdriver.Chrome('chromedriver.exe', chrome_options=chrome_options)\n"
                    ]
                }
            ],
            "metadata": {}
        },
        {
            "cell_type": "code",
            "execution_count": null,
            "source": [
                "# 페이지 불러오기\r\n",
                "driver.get('https://www.instagram.com/')"
            ],
            "outputs": [],
            "metadata": {}
        },
        {
            "cell_type": "code",
            "execution_count": 163,
            "source": [
                "# 로그인\r\n",
                "driver.implicitly_wait(0.5)\r\n",
                "driver.find_element_by_xpath('//*[@id=\"react-root\"]/section/main/article/div/div/div/div[3]/button[1]').click()"
            ],
            "outputs": [],
            "metadata": {}
        },
        {
            "cell_type": "code",
            "execution_count": 164,
            "source": [
                "driver.find_element_by_name('username').send_keys(user_id)\r\n",
                "driver.find_element_by_name('password').send_keys(user_pw)\r\n",
                "driver.find_element_by_xpath('//*[@id=\"loginForm\"]/div[1]/div[6]').click()"
            ],
            "outputs": [],
            "metadata": {}
        },
        {
            "cell_type": "code",
            "execution_count": 165,
            "source": [
                "# 메인 화면 진입\r\n",
                "driver.implicitly_wait(4.0)\r\n",
                "driver.find_element_by_xpath('//*[@id=\"react-root\"]/section/main/div/div/div/button').click()"
            ],
            "outputs": [],
            "metadata": {}
        },
        {
            "cell_type": "code",
            "execution_count": 166,
            "source": [
                "driver.find_element_by_xpath('/html/body/div[5]/div/div/div/div[3]/button[2]').click()"
            ],
            "outputs": [],
            "metadata": {}
        },
        {
            "cell_type": "code",
            "execution_count": 167,
            "source": [
                "# 내 스토리 클릭\r\n",
                "driver.implicitly_wait(2.0)\r\n",
                "driver.find_element_by_xpath('//*[@id=\"react-root\"]/section/main/section/div[1]/div/div/div/div[1]/button/span/img').click()"
            ],
            "outputs": [],
            "metadata": {}
        },
        {
            "cell_type": "code",
            "execution_count": 168,
            "source": [
                "driver.find_element_by_xpath('/html/body/div[5]/div/div[2]/div/div[5]/button').click()"
            ],
            "outputs": [],
            "metadata": {}
        },
        {
            "cell_type": "code",
            "execution_count": null,
            "source": [],
            "outputs": [],
            "metadata": {}
        }
    ],
    "metadata": {
        "orig_nbformat": 4,
        "language_info": {
            "name": "python",
            "version": "3.9.6",
            "mimetype": "text/x-python",
            "codemirror_mode": {
                "name": "ipython",
                "version": 3
            },
            "pygments_lexer": "ipython3",
            "nbconvert_exporter": "python",
            "file_extension": ".py"
        },
        "kernelspec": {
            "name": "python3",
            "display_name": "Python 3.9.6 64-bit"
        },
        "interpreter": {
            "hash": "d54bb5494ef5283f3bb9da334a12126f2e168d7022622466af04c6570fd1119d"
        }
    },
    "nbformat": 4,
    "nbformat_minor": 2
}