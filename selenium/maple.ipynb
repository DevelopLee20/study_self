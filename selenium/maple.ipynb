{
 "cells": [
  {
   "cell_type": "code",
   "execution_count": 9,
   "metadata": {},
   "outputs": [
    {
     "name": "stderr",
     "output_type": "stream",
     "text": [
      "C:\\Users\\dldls\\AppData\\Local\\Temp/ipykernel_10224/4052361247.py:6: DeprecationWarning: executable_path has been deprecated, please pass in a Service object\n",
      "  driver = webdriver.Chrome('chromedriver.exe')\n",
      "C:\\Users\\dldls\\AppData\\Local\\Temp/ipykernel_10224/4052361247.py:10: DeprecationWarning: find_element_by_* commands are deprecated. Please use find_element() instead\n",
      "  driver.find_element_by_xpath('//*[@id=\"section02\"]/div/div[2]/span[2]/a/img').click()\n",
      "C:\\Users\\dldls\\AppData\\Local\\Temp/ipykernel_10224/4052361247.py:11: DeprecationWarning: find_element_by_* commands are deprecated. Please use find_element() instead\n",
      "  driver.find_element_by_id('mid').send_keys(id)\n",
      "C:\\Users\\dldls\\AppData\\Local\\Temp/ipykernel_10224/4052361247.py:12: DeprecationWarning: find_element_by_* commands are deprecated. Please use find_element() instead\n",
      "  driver.find_element_by_id('mpw').send_keys(pw)\n",
      "C:\\Users\\dldls\\AppData\\Local\\Temp/ipykernel_10224/4052361247.py:13: DeprecationWarning: find_element_by_* commands are deprecated. Please use find_element() instead\n",
      "  driver.find_element_by_xpath('//*[@id=\"frmLoginMaple\"]/div[3]/a/img').click()\n"
     ]
    }
   ],
   "source": [
    "from selenium import webdriver\n",
    "\n",
    "id = 'idname'\n",
    "pw = 'passname'\n",
    "\n",
    "driver = webdriver.Chrome('chromedriver.exe')\n",
    "\n",
    "driver.get('https://maplestory.nexon.com/Home/Main')\n",
    "driver.maximize_window()\n",
    "driver.find_element_by_xpath('//*[@id=\"section02\"]/div/div[2]/span[2]/a/img').click()\n",
    "driver.find_element_by_id('mid').send_keys(id)\n",
    "driver.find_element_by_id('mpw').send_keys(pw)\n",
    "driver.find_element_by_xpath('//*[@id=\"frmLoginMaple\"]/div[3]/a/img').click()\n",
    "driver.implicitly_wait(1.0)\n",
    "driver.get('https://maplestory.nexon.com/Home/Main')"
   ]
  },
  {
   "cell_type": "code",
   "execution_count": null,
   "metadata": {},
   "outputs": [],
   "source": []
  }
 ],
 "metadata": {
  "interpreter": {
   "hash": "b2a908de2e63cef092b4c03a3d6fd8a528dc783c2259b39b3e2e9299e7de2526"
  },
  "kernelspec": {
   "display_name": "Python 3.9.9 64-bit",
   "language": "python",
   "name": "python3"
  },
  "language_info": {
   "codemirror_mode": {
    "name": "ipython",
    "version": 3
   },
   "file_extension": ".py",
   "mimetype": "text/x-python",
   "name": "python",
   "nbconvert_exporter": "python",
   "pygments_lexer": "ipython3",
   "version": "3.9.9"
  },
  "orig_nbformat": 4
 },
 "nbformat": 4,
 "nbformat_minor": 2
}
