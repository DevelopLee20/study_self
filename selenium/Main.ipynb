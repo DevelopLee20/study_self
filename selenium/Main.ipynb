{
    "cells": [
        {
            "cell_type": "code",
            "execution_count": 1,
            "metadata": {},
            "outputs": [
                {
                    "ename": "ModuleNotFoundError",
                    "evalue": "No module named 'bs4'",
                    "output_type": "error",
                    "traceback": [
                        "\u001b[1;31m---------------------------------------------------------------------------\u001b[0m",
                        "\u001b[1;31mModuleNotFoundError\u001b[0m                       Traceback (most recent call last)",
                        "\u001b[1;32m~\\AppData\\Local\\Temp/ipykernel_332/3609449258.py\u001b[0m in \u001b[0;36m<module>\u001b[1;34m\u001b[0m\n\u001b[0;32m      1\u001b[0m \u001b[1;32mimport\u001b[0m \u001b[0mrequests\u001b[0m\u001b[1;33m\u001b[0m\u001b[1;33m\u001b[0m\u001b[0m\n\u001b[1;32m----> 2\u001b[1;33m \u001b[1;32mfrom\u001b[0m \u001b[0mbs4\u001b[0m \u001b[1;32mimport\u001b[0m \u001b[0mBeautifulSoup\u001b[0m\u001b[1;33m\u001b[0m\u001b[1;33m\u001b[0m\u001b[0m\n\u001b[0m\u001b[0;32m      3\u001b[0m \u001b[1;32mfrom\u001b[0m \u001b[0mselenium\u001b[0m \u001b[1;32mimport\u001b[0m \u001b[0mwebdriver\u001b[0m\u001b[1;33m\u001b[0m\u001b[1;33m\u001b[0m\u001b[0m\n",
                        "\u001b[1;31mModuleNotFoundError\u001b[0m: No module named 'bs4'"
                    ]
                }
            ],
            "source": [
                "import requests\n",
                "from bs4 import BeautifulSoup\n",
                "from selenium import webdriver"
            ]
        },
        {
            "cell_type": "code",
            "execution_count": 35,
            "metadata": {},
            "outputs": [],
            "source": [
                "# 입력으로 변경\n",
                "user_id = ''\n",
                "user_pw = ''\n",
                "# value 값 : 1코트부터~8코트까지\n",
                "setting_value = [32,90,91,92,93,94,95,96]\n",
                "setting_list = []"
            ]
        },
        {
            "cell_type": "code",
            "execution_count": 2,
            "metadata": {},
            "outputs": [
                {
                    "ename": "NameError",
                    "evalue": "name 'webdriver' is not defined",
                    "output_type": "error",
                    "traceback": [
                        "\u001b[1;31m---------------------------------------------------------------------------\u001b[0m",
                        "\u001b[1;31mNameError\u001b[0m                                 Traceback (most recent call last)",
                        "\u001b[1;32m~\\AppData\\Local\\Temp/ipykernel_332/233227992.py\u001b[0m in \u001b[0;36m<module>\u001b[1;34m\u001b[0m\n\u001b[0;32m      1\u001b[0m \u001b[1;31m# 드라이버 패스 설정\u001b[0m\u001b[1;33m\u001b[0m\u001b[1;33m\u001b[0m\u001b[0m\n\u001b[1;32m----> 2\u001b[1;33m \u001b[0mdriver\u001b[0m \u001b[1;33m=\u001b[0m \u001b[0mwebdriver\u001b[0m\u001b[1;33m.\u001b[0m\u001b[0mChrome\u001b[0m\u001b[1;33m(\u001b[0m\u001b[1;34m'chromedriver.exe'\u001b[0m\u001b[1;33m)\u001b[0m\u001b[1;33m\u001b[0m\u001b[1;33m\u001b[0m\u001b[0m\n\u001b[0m",
                        "\u001b[1;31mNameError\u001b[0m: name 'webdriver' is not defined"
                    ]
                }
            ],
            "source": [
                "# 드라이버 패스 설정\n",
                "driver = webdriver.Chrome('chromedriver.exe')"
            ]
        },
        {
            "cell_type": "code",
            "execution_count": 37,
            "metadata": {},
            "outputs": [],
            "source": [
                "driver.maximize_window()"
            ]
        },
        {
            "cell_type": "code",
            "execution_count": 38,
            "metadata": {},
            "outputs": [],
            "source": [
                "# 페이지 불러오기\n",
                "driver.get('https://re.asimc.or.kr/v')"
            ]
        },
        {
            "cell_type": "code",
            "execution_count": 39,
            "metadata": {},
            "outputs": [],
            "source": [
                "# 로그인\n",
                "driver.implicitly_wait(0.5)\n",
                "driver.find_element_by_xpath('//*[@id=\"topLogin\"]').click()\n",
                "driver.find_element_by_id('userId').send_keys(user_id)\n",
                "driver.find_element_by_id('password').send_keys(user_pw)\n",
                "driver.find_element_by_xpath('//*[@id=\"login_wrap\"]/table/tbody/tr[5]/td/div/a').click()"
            ]
        },
        {
            "cell_type": "code",
            "execution_count": 40,
            "metadata": {},
            "outputs": [],
            "source": [
                "# 시설 예약 바로가기 설정 후 진입\n",
                "driver.implicitly_wait(0.5)\n",
                "webdriver.support.ui.Select(driver.find_element_by_id('fac_list')).select_by_value('7')\n",
                "webdriver.support.ui.Select(driver.find_element_by_id('det_fac_list')).select_by_value('93')\n",
                "driver.find_element_by_xpath('//*[@id=\"main_res_t\"]/tbody/tr/td[3]/a').click()"
            ]
        },
        {
            "cell_type": "code",
            "execution_count": 41,
            "metadata": {},
            "outputs": [],
            "source": [
                "# 진입 후 예약\n",
                "# 체육경기 = A, 경기이외의 행사 = O\n",
                "driver.implicitly_wait(0.5)\n",
                "driver.find_element_by_xpath('//*[@id=\"cal_body\"]/tr[3]/td[4]').click()\n",
                "webdriver.support.ui.Select(driver.find_element_by_id('purpose')).select_by_value('O')\n",
                "webdriver.support.ui.Select(driver.find_element_by_id('s_time_hour')).select_by_value('05')\n",
                "webdriver.support.ui.Select(driver.find_element_by_id('hour_unit')).select_by_value('2')\n",
                "driver.find_element_by_xpath('//*[@id=\"more\"]/a').click()"
            ]
        },
        {
            "cell_type": "code",
            "execution_count": 42,
            "metadata": {},
            "outputs": [],
            "source": [
                "# 인원수, 행사명 작성\n",
                "driver.implicitly_wait(0.5)\n",
                "driver.find_element_by_id('person').send_keys('1')\n",
                "driver.find_element_by_id('event').send_keys('테스트')\n",
                "driver.find_element_by_xpath('//*[@id=\"join_btn_wrap\"]/a[1]').click()"
            ]
        },
        {
            "cell_type": "code",
            "execution_count": 43,
            "metadata": {},
            "outputs": [],
            "source": [
                "# 라이트 설정 라이트_value = 23\n",
                "driver.implicitly_wait(0.5)\n",
                "webdriver.support.ui.Select(driver.find_element_by_id('sub_fac_list')).select_by_value('23')\n",
                "# driver.find_element_by_id('sub_fac_cnt').send_keys('1')\n",
                "driver.find_element_by_xpath('//*[@id=\"join_table\"]/table/tbody/tr[1]/td[2]/form/a').click()"
            ]
        }
    ],
    "metadata": {
        "interpreter": {
            "hash": "b2a908de2e63cef092b4c03a3d6fd8a528dc783c2259b39b3e2e9299e7de2526"
        },
        "kernelspec": {
            "display_name": "Python 3.9.1 64-bit",
            "name": "python3"
        },
        "language_info": {
            "codemirror_mode": {
                "name": "ipython",
                "version": 3
            },
            "file_extension": ".py",
            "mimetype": "text/x-python",
            "name": "python",
            "nbconvert_exporter": "python",
            "pygments_lexer": "ipython3",
            "version": "3.9.9"
        },
        "orig_nbformat": 4
    },
    "nbformat": 4,
    "nbformat_minor": 2
}
