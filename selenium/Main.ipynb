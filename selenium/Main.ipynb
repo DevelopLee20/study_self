{
    "cells": [
        {
            "cell_type": "code",
            "execution_count": 65,
            "metadata": {},
            "outputs": [],
            "source": [
                "import requests\n",
                "from bs4 import BeautifulSoup\n",
                "from selenium import webdriver\n",
                "import datetime"
            ]
        },
        {
            "cell_type": "code",
            "execution_count": 66,
            "metadata": {},
            "outputs": [],
            "source": [
                "while 1:\n",
                "    if datetime.datetime.now().hour == 17:\n",
                "        break"
            ]
        },
        {
            "cell_type": "code",
            "execution_count": 67,
            "metadata": {},
            "outputs": [],
            "source": [
                "# 입력으로 변경\n",
                "user_id = 'ks3532'\n",
                "user_pw = '9913'\n",
                "# value 값 : 1코트부터~8코트까지\n",
                "setting_value = [32,90,91,92,93,94,95,96]\n",
                "setting_list = []"
            ]
        },
        {
            "cell_type": "code",
            "execution_count": 68,
            "metadata": {},
            "outputs": [
                {
                    "name": "stderr",
                    "output_type": "stream",
                    "text": [
                        "C:\\Users\\dldls\\AppData\\Local\\Temp/ipykernel_5076/233227992.py:2: DeprecationWarning: executable_path has been deprecated, please pass in a Service object\n",
                        "  driver = webdriver.Chrome('chromedriver.exe')\n"
                    ]
                }
            ],
            "source": [
                "# 드라이버 패스 설정\n",
                "driver = webdriver.Chrome('chromedriver.exe')"
            ]
        },
        {
            "cell_type": "code",
            "execution_count": 69,
            "metadata": {},
            "outputs": [],
            "source": [
                "driver.maximize_window()"
            ]
        },
        {
            "cell_type": "code",
            "execution_count": 70,
            "metadata": {},
            "outputs": [],
            "source": [
                "# 페이지 불러오기\n",
                "driver.get('https://re.asimc.or.kr/v')"
            ]
        },
        {
            "cell_type": "code",
            "execution_count": 71,
            "metadata": {},
            "outputs": [
                {
                    "name": "stderr",
                    "output_type": "stream",
                    "text": [
                        "C:\\Users\\dldls\\AppData\\Local\\Temp/ipykernel_5076/2621887183.py:3: DeprecationWarning: find_element_by_* commands are deprecated. Please use find_element() instead\n",
                        "  driver.find_element_by_xpath('//*[@id=\"topLogin\"]').click()\n",
                        "C:\\Users\\dldls\\AppData\\Local\\Temp/ipykernel_5076/2621887183.py:4: DeprecationWarning: find_element_by_* commands are deprecated. Please use find_element() instead\n",
                        "  driver.find_element_by_id('userId').send_keys(user_id)\n",
                        "C:\\Users\\dldls\\AppData\\Local\\Temp/ipykernel_5076/2621887183.py:5: DeprecationWarning: find_element_by_* commands are deprecated. Please use find_element() instead\n",
                        "  driver.find_element_by_id('password').send_keys(user_pw)\n",
                        "C:\\Users\\dldls\\AppData\\Local\\Temp/ipykernel_5076/2621887183.py:6: DeprecationWarning: find_element_by_* commands are deprecated. Please use find_element() instead\n",
                        "  driver.find_element_by_xpath('//*[@id=\"login_wrap\"]/table/tbody/tr[5]/td/div/a').click()\n"
                    ]
                }
            ],
            "source": [
                "# 로그인\n",
                "driver.implicitly_wait(0.5)\n",
                "driver.find_element_by_xpath('//*[@id=\"topLogin\"]').click()\n",
                "driver.find_element_by_id('userId').send_keys(user_id)\n",
                "driver.find_element_by_id('password').send_keys(user_pw)\n",
                "driver.find_element_by_xpath('//*[@id=\"login_wrap\"]/table/tbody/tr[5]/td/div/a').click()"
            ]
        },
        {
            "cell_type": "code",
            "execution_count": 72,
            "metadata": {},
            "outputs": [
                {
                    "name": "stderr",
                    "output_type": "stream",
                    "text": [
                        "C:\\Users\\dldls\\AppData\\Local\\Temp/ipykernel_5076/4052213415.py:6: DeprecationWarning: find_element_by_* commands are deprecated. Please use find_element() instead\n",
                        "  Select(driver.find_element_by_id('fac_list')).select_by_value('3')\n",
                        "C:\\Users\\dldls\\AppData\\Local\\Temp/ipykernel_5076/4052213415.py:7: DeprecationWarning: find_element_by_* commands are deprecated. Please use find_element() instead\n",
                        "  Select(driver.find_element_by_id('det_fac_list')).select_by_value('4')\n",
                        "C:\\Users\\dldls\\AppData\\Local\\Temp/ipykernel_5076/4052213415.py:8: DeprecationWarning: find_element_by_* commands are deprecated. Please use find_element() instead\n",
                        "  driver.find_element_by_xpath('//*[@id=\"main_res_t\"]/tbody/tr/td[3]/a').click()\n"
                    ]
                }
            ],
            "source": [
                "# 시설 예약 바로가기 설정 후 진입\n",
                "\n",
                "from selenium.webdriver.support.ui import Select\n",
                "\n",
                "driver.implicitly_wait(0.5)\n",
                "Select(driver.find_element_by_id('fac_list')).select_by_value('3')\n",
                "Select(driver.find_element_by_id('det_fac_list')).select_by_value('4')\n",
                "driver.find_element_by_xpath('//*[@id=\"main_res_t\"]/tbody/tr/td[3]/a').click()"
            ]
        },
        {
            "cell_type": "code",
            "execution_count": 73,
            "metadata": {},
            "outputs": [
                {
                    "name": "stderr",
                    "output_type": "stream",
                    "text": [
                        "C:\\Users\\dldls\\AppData\\Local\\Temp/ipykernel_5076/2954094355.py:4: DeprecationWarning: find_element_by_* commands are deprecated. Please use find_element() instead\n",
                        "  driver.find_element_by_xpath('//*[@id=\"cal_body\"]/tr[1]/td[3]').click()\n",
                        "C:\\Users\\dldls\\AppData\\Local\\Temp/ipykernel_5076/2954094355.py:5: DeprecationWarning: find_element_by_* commands are deprecated. Please use find_element() instead\n",
                        "  Select(driver.find_element_by_id('purpose')).select_by_value('O')\n",
                        "C:\\Users\\dldls\\AppData\\Local\\Temp/ipykernel_5076/2954094355.py:6: DeprecationWarning: find_element_by_* commands are deprecated. Please use find_element() instead\n",
                        "  Select(driver.find_element_by_id('s_time_hour')).select_by_value('14')\n",
                        "C:\\Users\\dldls\\AppData\\Local\\Temp/ipykernel_5076/2954094355.py:7: DeprecationWarning: find_element_by_* commands are deprecated. Please use find_element() instead\n",
                        "  Select(driver.find_element_by_id('hour_unit')).select_by_value('4')\n",
                        "C:\\Users\\dldls\\AppData\\Local\\Temp/ipykernel_5076/2954094355.py:8: DeprecationWarning: find_element_by_* commands are deprecated. Please use find_element() instead\n",
                        "  driver.find_element_by_xpath('//*[@id=\"more\"]/a').click()\n"
                    ]
                }
            ],
            "source": [
                "# 진입 후 예약\n",
                "# 체육경기 = A, 경기이외의 행사 = O\n",
                "driver.implicitly_wait(0.5)\n",
                "driver.find_element_by_xpath('//*[@id=\"cal_body\"]/tr[1]/td[3]').click()\n",
                "Select(driver.find_element_by_id('purpose')).select_by_value('O')\n",
                "Select(driver.find_element_by_id('s_time_hour')).select_by_value('14')\n",
                "Select(driver.find_element_by_id('hour_unit')).select_by_value('4')\n",
                "driver.find_element_by_xpath('//*[@id=\"more\"]/a').click()"
            ]
        },
        {
            "cell_type": "code",
            "execution_count": 74,
            "metadata": {},
            "outputs": [
                {
                    "name": "stderr",
                    "output_type": "stream",
                    "text": [
                        "C:\\Users\\dldls\\AppData\\Local\\Temp/ipykernel_5076/1700790798.py:3: DeprecationWarning: find_element_by_* commands are deprecated. Please use find_element() instead\n",
                        "  driver.find_element_by_id('person').send_keys('4')\n",
                        "C:\\Users\\dldls\\AppData\\Local\\Temp/ipykernel_5076/1700790798.py:4: DeprecationWarning: find_element_by_* commands are deprecated. Please use find_element() instead\n",
                        "  driver.find_element_by_id('event').send_keys('게임')\n",
                        "C:\\Users\\dldls\\AppData\\Local\\Temp/ipykernel_5076/1700790798.py:5: DeprecationWarning: find_element_by_* commands are deprecated. Please use find_element() instead\n",
                        "  driver.find_element_by_xpath('//*[@id=\"join_btn_wrap\"]/a[1]').click()\n"
                    ]
                }
            ],
            "source": [
                "# 인원수, 행사명 작성\n",
                "driver.implicitly_wait(0.5)\n",
                "driver.find_element_by_id('person').send_keys('4')\n",
                "driver.find_element_by_id('event').send_keys('게임')\n",
                "driver.find_element_by_xpath('//*[@id=\"join_btn_wrap\"]/a[1]').click()"
            ]
        },
        {
            "cell_type": "code",
            "execution_count": 75,
            "metadata": {},
            "outputs": [
                {
                    "name": "stderr",
                    "output_type": "stream",
                    "text": [
                        "C:\\Users\\dldls\\AppData\\Local\\Temp/ipykernel_5076/3621795408.py:5: DeprecationWarning: find_element_by_* commands are deprecated. Please use find_element() instead\n",
                        "  driver.find_element_by_xpath('//*[@id=\"join_btn_wrap\"]/a[1]').click()\n"
                    ]
                }
            ],
            "source": [
                "# 라이트 설정 라이트_value = 23\n",
                "driver.implicitly_wait(0.5)\n",
                "# webdriver.support.ui.Select(driver.find_element_by_id('sub_fac_list')).select_by_value('23')\n",
                "# driver.find_element_by_id('sub_fac_cnt').send_keys('1')\n",
                "driver.find_element_by_xpath('//*[@id=\"join_btn_wrap\"]/a[1]').click()"
            ]
        },
        {
            "cell_type": "code",
            "execution_count": null,
            "metadata": {},
            "outputs": [],
            "source": []
        }
    ],
    "metadata": {
        "interpreter": {
            "hash": "b2a908de2e63cef092b4c03a3d6fd8a528dc783c2259b39b3e2e9299e7de2526"
        },
        "kernelspec": {
            "display_name": "Python 3.9.1 64-bit",
            "name": "python3"
        },
        "language_info": {
            "codemirror_mode": {
                "name": "ipython",
                "version": 3
            },
            "file_extension": ".py",
            "mimetype": "text/x-python",
            "name": "python",
            "nbconvert_exporter": "python",
            "pygments_lexer": "ipython3",
            "version": "3.9.0"
        },
        "orig_nbformat": 4
    },
    "nbformat": 4,
    "nbformat_minor": 2
}
