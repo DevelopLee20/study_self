{
    "cells": [
        {
            "cell_type": "code",
            "execution_count": 34,
            "source": [
                "import requests\r\n",
                "from bs4 import BeautifulSoup\r\n",
                "from selenium import webdriver"
            ],
            "outputs": [],
            "metadata": {}
        },
        {
            "cell_type": "code",
            "execution_count": 35,
            "source": [
                "# 입력으로 변경\r\n",
                "user_id = ''\r\n",
                "user_pw = ''\r\n",
                "# value 값 : 1코트부터~8코트까지\r\n",
                "setting_value = [32,90,91,92,93,94,95,96]\r\n",
                "setting_list = []"
            ],
            "outputs": [],
            "metadata": {}
        },
        {
            "cell_type": "code",
            "execution_count": 36,
            "source": [
                "# 드라이버 패스 설정\r\n",
                "driver = webdriver.Chrome('chromedriver.exe')"
            ],
            "outputs": [],
            "metadata": {}
        },
        {
            "cell_type": "code",
            "execution_count": 37,
            "source": [
                "driver.maximize_window()"
            ],
            "outputs": [],
            "metadata": {}
        },
        {
            "cell_type": "code",
            "execution_count": 38,
            "source": [
                "# 페이지 불러오기\r\n",
                "driver.get('https://re.asimc.or.kr/v')"
            ],
            "outputs": [],
            "metadata": {}
        },
        {
            "cell_type": "code",
            "execution_count": 39,
            "source": [
                "# 로그인\r\n",
                "driver.implicitly_wait(0.5)\r\n",
                "driver.find_element_by_xpath('//*[@id=\"topLogin\"]').click()\r\n",
                "driver.find_element_by_id('userId').send_keys(user_id)\r\n",
                "driver.find_element_by_id('password').send_keys(user_pw)\r\n",
                "driver.find_element_by_xpath('//*[@id=\"login_wrap\"]/table/tbody/tr[5]/td/div/a').click()"
            ],
            "outputs": [],
            "metadata": {}
        },
        {
            "cell_type": "code",
            "execution_count": 40,
            "source": [
                "# 시설 예약 바로가기 설정 후 진입\r\n",
                "driver.implicitly_wait(0.5)\r\n",
                "webdriver.support.ui.Select(driver.find_element_by_id('fac_list')).select_by_value('7')\r\n",
                "webdriver.support.ui.Select(driver.find_element_by_id('det_fac_list')).select_by_value('93')\r\n",
                "driver.find_element_by_xpath('//*[@id=\"main_res_t\"]/tbody/tr/td[3]/a').click()"
            ],
            "outputs": [],
            "metadata": {}
        },
        {
            "cell_type": "code",
            "execution_count": 41,
            "source": [
                "# 진입 후 예약\r\n",
                "# 체육경기 = A, 경기이외의 행사 = O\r\n",
                "driver.implicitly_wait(0.5)\r\n",
                "driver.find_element_by_xpath('//*[@id=\"cal_body\"]/tr[3]/td[4]').click()\r\n",
                "webdriver.support.ui.Select(driver.find_element_by_id('purpose')).select_by_value('O')\r\n",
                "webdriver.support.ui.Select(driver.find_element_by_id('s_time_hour')).select_by_value('05')\r\n",
                "webdriver.support.ui.Select(driver.find_element_by_id('hour_unit')).select_by_value('2')\r\n",
                "driver.find_element_by_xpath('//*[@id=\"more\"]/a').click()"
            ],
            "outputs": [],
            "metadata": {}
        },
        {
            "cell_type": "code",
            "execution_count": 42,
            "source": [
                "# 인원수, 행사명 작성\r\n",
                "driver.implicitly_wait(0.5)\r\n",
                "driver.find_element_by_id('person').send_keys('1')\r\n",
                "driver.find_element_by_id('event').send_keys('테스트')\r\n",
                "driver.find_element_by_xpath('//*[@id=\"join_btn_wrap\"]/a[1]').click()"
            ],
            "outputs": [],
            "metadata": {}
        },
        {
            "cell_type": "code",
            "execution_count": 43,
            "source": [
                "# 라이트 설정 라이트_value = 23\r\n",
                "driver.implicitly_wait(0.5)\r\n",
                "webdriver.support.ui.Select(driver.find_element_by_id('sub_fac_list')).select_by_value('23')\r\n",
                "# driver.find_element_by_id('sub_fac_cnt').send_keys('1')\r\n",
                "driver.find_element_by_xpath('//*[@id=\"join_table\"]/table/tbody/tr[1]/td[2]/form/a').click()"
            ],
            "outputs": [],
            "metadata": {}
        }
    ],
    "metadata": {
        "orig_nbformat": 4,
        "language_info": {
            "name": "python",
            "version": "3.9.1",
            "mimetype": "text/x-python",
            "codemirror_mode": {
                "name": "ipython",
                "version": 3
            },
            "pygments_lexer": "ipython3",
            "nbconvert_exporter": "python",
            "file_extension": ".py"
        },
        "kernelspec": {
            "name": "python3",
            "display_name": "Python 3.9.1 64-bit"
        },
        "interpreter": {
            "hash": "b2a908de2e63cef092b4c03a3d6fd8a528dc783c2259b39b3e2e9299e7de2526"
        }
    },
    "nbformat": 4,
    "nbformat_minor": 2
}